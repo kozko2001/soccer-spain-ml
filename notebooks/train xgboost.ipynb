{
 "cells": [
  {
   "cell_type": "code",
   "execution_count": 60,
   "metadata": {},
   "outputs": [],
   "source": [
    "import xgboost as xgb\n",
    "import pandas as pd\n",
    "from sklearn.model_selection import train_test_split"
   ]
  },
  {
   "cell_type": "code",
   "execution_count": 61,
   "metadata": {},
   "outputs": [
    {
     "data": {
      "text/html": [
       "<div>\n",
       "<style scoped>\n",
       "    .dataframe tbody tr th:only-of-type {\n",
       "        vertical-align: middle;\n",
       "    }\n",
       "\n",
       "    .dataframe tbody tr th {\n",
       "        vertical-align: top;\n",
       "    }\n",
       "\n",
       "    .dataframe thead th {\n",
       "        text-align: right;\n",
       "    }\n",
       "</style>\n",
       "<table border=\"1\" class=\"dataframe\">\n",
       "  <thead>\n",
       "    <tr style=\"text-align: right;\">\n",
       "      <th></th>\n",
       "      <th>Unnamed: 0</th>\n",
       "      <th>id_partido</th>\n",
       "      <th>id_equipo_local</th>\n",
       "      <th>id_equipo_visitante</th>\n",
       "      <th>CENTRO_local</th>\n",
       "      <th>CENTRO DE SAQUE DE BANDA_local</th>\n",
       "      <th>CORNER_local</th>\n",
       "      <th>FALTA_local</th>\n",
       "      <th>GOL_local</th>\n",
       "      <th>GOL ANULADO_local</th>\n",
       "      <th>...</th>\n",
       "      <th>GOL ANULADO_visitante</th>\n",
       "      <th>PENALTY FUERA_visitante</th>\n",
       "      <th>PENALTY PARADO_visitante</th>\n",
       "      <th>PENALTY REPETIDO_visitante</th>\n",
       "      <th>SEGUNDA TARJETA AMARILLA AL JUGADOR_visitante</th>\n",
       "      <th>TARJETA AMARILLA_visitante</th>\n",
       "      <th>TARJETA ROJA_visitante</th>\n",
       "      <th>TIRO A PORTERIA_visitante</th>\n",
       "      <th>TIRO FUERA_visitante</th>\n",
       "      <th>ganador</th>\n",
       "    </tr>\n",
       "  </thead>\n",
       "  <tbody>\n",
       "    <tr>\n",
       "      <th>0</th>\n",
       "      <td>0</td>\n",
       "      <td>1</td>\n",
       "      <td>1</td>\n",
       "      <td>2</td>\n",
       "      <td>0.0</td>\n",
       "      <td>0.0</td>\n",
       "      <td>0.0</td>\n",
       "      <td>0.0</td>\n",
       "      <td>2.0</td>\n",
       "      <td>0.0</td>\n",
       "      <td>...</td>\n",
       "      <td>0.0</td>\n",
       "      <td>0.0</td>\n",
       "      <td>0.0</td>\n",
       "      <td>0.0</td>\n",
       "      <td>0.0</td>\n",
       "      <td>3.0</td>\n",
       "      <td>0.0</td>\n",
       "      <td>0.0</td>\n",
       "      <td>0.0</td>\n",
       "      <td>0</td>\n",
       "    </tr>\n",
       "    <tr>\n",
       "      <th>1</th>\n",
       "      <td>1</td>\n",
       "      <td>2</td>\n",
       "      <td>3</td>\n",
       "      <td>4</td>\n",
       "      <td>11.0</td>\n",
       "      <td>0.0</td>\n",
       "      <td>10.0</td>\n",
       "      <td>5.0</td>\n",
       "      <td>1.0</td>\n",
       "      <td>0.0</td>\n",
       "      <td>...</td>\n",
       "      <td>0.0</td>\n",
       "      <td>0.0</td>\n",
       "      <td>0.0</td>\n",
       "      <td>0.0</td>\n",
       "      <td>0.0</td>\n",
       "      <td>0.0</td>\n",
       "      <td>0.0</td>\n",
       "      <td>0.0</td>\n",
       "      <td>2.0</td>\n",
       "      <td>1</td>\n",
       "    </tr>\n",
       "    <tr>\n",
       "      <th>2</th>\n",
       "      <td>2</td>\n",
       "      <td>3</td>\n",
       "      <td>5</td>\n",
       "      <td>6</td>\n",
       "      <td>8.0</td>\n",
       "      <td>0.0</td>\n",
       "      <td>2.0</td>\n",
       "      <td>6.0</td>\n",
       "      <td>0.0</td>\n",
       "      <td>0.0</td>\n",
       "      <td>...</td>\n",
       "      <td>0.0</td>\n",
       "      <td>0.0</td>\n",
       "      <td>0.0</td>\n",
       "      <td>0.0</td>\n",
       "      <td>0.0</td>\n",
       "      <td>0.0</td>\n",
       "      <td>0.0</td>\n",
       "      <td>4.0</td>\n",
       "      <td>2.0</td>\n",
       "      <td>2</td>\n",
       "    </tr>\n",
       "    <tr>\n",
       "      <th>3</th>\n",
       "      <td>3</td>\n",
       "      <td>4</td>\n",
       "      <td>7</td>\n",
       "      <td>8</td>\n",
       "      <td>4.0</td>\n",
       "      <td>1.0</td>\n",
       "      <td>8.0</td>\n",
       "      <td>9.0</td>\n",
       "      <td>2.0</td>\n",
       "      <td>0.0</td>\n",
       "      <td>...</td>\n",
       "      <td>0.0</td>\n",
       "      <td>0.0</td>\n",
       "      <td>0.0</td>\n",
       "      <td>0.0</td>\n",
       "      <td>0.0</td>\n",
       "      <td>0.0</td>\n",
       "      <td>0.0</td>\n",
       "      <td>1.0</td>\n",
       "      <td>5.0</td>\n",
       "      <td>1</td>\n",
       "    </tr>\n",
       "    <tr>\n",
       "      <th>4</th>\n",
       "      <td>4</td>\n",
       "      <td>5</td>\n",
       "      <td>9</td>\n",
       "      <td>10</td>\n",
       "      <td>0.0</td>\n",
       "      <td>0.0</td>\n",
       "      <td>0.0</td>\n",
       "      <td>0.0</td>\n",
       "      <td>2.0</td>\n",
       "      <td>0.0</td>\n",
       "      <td>...</td>\n",
       "      <td>0.0</td>\n",
       "      <td>0.0</td>\n",
       "      <td>0.0</td>\n",
       "      <td>0.0</td>\n",
       "      <td>0.0</td>\n",
       "      <td>2.0</td>\n",
       "      <td>0.0</td>\n",
       "      <td>0.0</td>\n",
       "      <td>0.0</td>\n",
       "      <td>1</td>\n",
       "    </tr>\n",
       "  </tbody>\n",
       "</table>\n",
       "<p>5 rows × 33 columns</p>\n",
       "</div>"
      ],
      "text/plain": [
       "   Unnamed: 0  id_partido  id_equipo_local  id_equipo_visitante  CENTRO_local  \\\n",
       "0           0           1                1                    2           0.0   \n",
       "1           1           2                3                    4          11.0   \n",
       "2           2           3                5                    6           8.0   \n",
       "3           3           4                7                    8           4.0   \n",
       "4           4           5                9                   10           0.0   \n",
       "\n",
       "   CENTRO DE SAQUE DE BANDA_local  CORNER_local  FALTA_local  GOL_local  \\\n",
       "0                             0.0           0.0          0.0        2.0   \n",
       "1                             0.0          10.0          5.0        1.0   \n",
       "2                             0.0           2.0          6.0        0.0   \n",
       "3                             1.0           8.0          9.0        2.0   \n",
       "4                             0.0           0.0          0.0        2.0   \n",
       "\n",
       "   GOL ANULADO_local  ...  GOL ANULADO_visitante  PENALTY FUERA_visitante  \\\n",
       "0                0.0  ...                    0.0                      0.0   \n",
       "1                0.0  ...                    0.0                      0.0   \n",
       "2                0.0  ...                    0.0                      0.0   \n",
       "3                0.0  ...                    0.0                      0.0   \n",
       "4                0.0  ...                    0.0                      0.0   \n",
       "\n",
       "   PENALTY PARADO_visitante  PENALTY REPETIDO_visitante  \\\n",
       "0                       0.0                         0.0   \n",
       "1                       0.0                         0.0   \n",
       "2                       0.0                         0.0   \n",
       "3                       0.0                         0.0   \n",
       "4                       0.0                         0.0   \n",
       "\n",
       "   SEGUNDA TARJETA AMARILLA AL JUGADOR_visitante  TARJETA AMARILLA_visitante  \\\n",
       "0                                            0.0                         3.0   \n",
       "1                                            0.0                         0.0   \n",
       "2                                            0.0                         0.0   \n",
       "3                                            0.0                         0.0   \n",
       "4                                            0.0                         2.0   \n",
       "\n",
       "   TARJETA ROJA_visitante  TIRO A PORTERIA_visitante  TIRO FUERA_visitante  \\\n",
       "0                     0.0                        0.0                   0.0   \n",
       "1                     0.0                        0.0                   2.0   \n",
       "2                     0.0                        4.0                   2.0   \n",
       "3                     0.0                        1.0                   5.0   \n",
       "4                     0.0                        0.0                   0.0   \n",
       "\n",
       "   ganador  \n",
       "0        0  \n",
       "1        1  \n",
       "2        2  \n",
       "3        1  \n",
       "4        1  \n",
       "\n",
       "[5 rows x 33 columns]"
      ]
     },
     "execution_count": 61,
     "metadata": {},
     "output_type": "execute_result"
    }
   ],
   "source": [
    "training = pd.read_csv('basic_match_events_training.csv')\n",
    "training.head()"
   ]
  },
  {
   "cell_type": "code",
   "execution_count": 62,
   "metadata": {},
   "outputs": [],
   "source": [
    "y = training.ganador\n",
    "X = training.drop(['ganador', 'id_equipo_visitante', 'id_equipo_local', 'Unnamed: 0', 'id_partido'], axis=1)"
   ]
  },
  {
   "cell_type": "code",
   "execution_count": 63,
   "metadata": {},
   "outputs": [],
   "source": [
    "X_train, X_valid, y_train, y_valid = train_test_split(X, y, test_size=0.10, random_state=42, shuffle=False)"
   ]
  },
  {
   "cell_type": "code",
   "execution_count": 133,
   "metadata": {},
   "outputs": [
    {
     "name": "stdout",
     "output_type": "stream",
     "text": [
      "[0]\tvalidation_0-merror:0.431538\n",
      "[1]\tvalidation_0-merror:0.423077\n",
      "[2]\tvalidation_0-merror:0.415385\n",
      "[3]\tvalidation_0-merror:0.412308\n",
      "[4]\tvalidation_0-merror:0.410769\n",
      "[5]\tvalidation_0-merror:0.41\n",
      "[6]\tvalidation_0-merror:0.406923\n",
      "[7]\tvalidation_0-merror:0.405385\n",
      "[8]\tvalidation_0-merror:0.404615\n",
      "[9]\tvalidation_0-merror:0.403077\n",
      "[10]\tvalidation_0-merror:0.405385\n",
      "[11]\tvalidation_0-merror:0.402308\n",
      "[12]\tvalidation_0-merror:0.406154\n",
      "[13]\tvalidation_0-merror:0.403077\n",
      "[14]\tvalidation_0-merror:0.405385\n",
      "[15]\tvalidation_0-merror:0.403077\n",
      "[16]\tvalidation_0-merror:0.404615\n",
      "[17]\tvalidation_0-merror:0.403846\n",
      "[18]\tvalidation_0-merror:0.403077\n",
      "[19]\tvalidation_0-merror:0.402308\n",
      "[20]\tvalidation_0-merror:0.403077\n",
      "[21]\tvalidation_0-merror:0.403077\n",
      "[22]\tvalidation_0-merror:0.404615\n",
      "[23]\tvalidation_0-merror:0.402308\n",
      "[24]\tvalidation_0-merror:0.401538\n",
      "[25]\tvalidation_0-merror:0.403077\n",
      "[26]\tvalidation_0-merror:0.403846\n",
      "[27]\tvalidation_0-merror:0.403846\n",
      "[28]\tvalidation_0-merror:0.402308\n",
      "[29]\tvalidation_0-merror:0.400769\n",
      "[30]\tvalidation_0-merror:0.400769\n",
      "[31]\tvalidation_0-merror:0.402308\n",
      "[32]\tvalidation_0-merror:0.4\n",
      "[33]\tvalidation_0-merror:0.399231\n",
      "[34]\tvalidation_0-merror:0.399231\n",
      "[35]\tvalidation_0-merror:0.403077\n",
      "[36]\tvalidation_0-merror:0.403846\n",
      "[37]\tvalidation_0-merror:0.403077\n",
      "[38]\tvalidation_0-merror:0.404615\n",
      "[39]\tvalidation_0-merror:0.403077\n",
      "[40]\tvalidation_0-merror:0.402308\n",
      "[41]\tvalidation_0-merror:0.405385\n",
      "[42]\tvalidation_0-merror:0.403846\n",
      "[43]\tvalidation_0-merror:0.402308\n",
      "[44]\tvalidation_0-merror:0.4\n",
      "[45]\tvalidation_0-merror:0.404615\n",
      "[46]\tvalidation_0-merror:0.404615\n",
      "[47]\tvalidation_0-merror:0.404615\n",
      "[48]\tvalidation_0-merror:0.405385\n",
      "[49]\tvalidation_0-merror:0.404615\n",
      "[50]\tvalidation_0-merror:0.404615\n",
      "[51]\tvalidation_0-merror:0.404615\n",
      "[52]\tvalidation_0-merror:0.404615\n",
      "[53]\tvalidation_0-merror:0.404615\n",
      "[54]\tvalidation_0-merror:0.404615\n",
      "[55]\tvalidation_0-merror:0.404615\n",
      "[56]\tvalidation_0-merror:0.404615\n",
      "[57]\tvalidation_0-merror:0.404615\n",
      "[58]\tvalidation_0-merror:0.404615\n",
      "[59]\tvalidation_0-merror:0.404615\n",
      "[60]\tvalidation_0-merror:0.404615\n",
      "[61]\tvalidation_0-merror:0.404615\n",
      "[62]\tvalidation_0-merror:0.404615\n",
      "[63]\tvalidation_0-merror:0.404615\n",
      "[64]\tvalidation_0-merror:0.404615\n",
      "[65]\tvalidation_0-merror:0.404615\n",
      "[66]\tvalidation_0-merror:0.404615\n",
      "[67]\tvalidation_0-merror:0.404615\n",
      "[68]\tvalidation_0-merror:0.405385\n",
      "[69]\tvalidation_0-merror:0.405385\n",
      "[70]\tvalidation_0-merror:0.405385\n",
      "[71]\tvalidation_0-merror:0.405385\n",
      "[72]\tvalidation_0-merror:0.405385\n",
      "[73]\tvalidation_0-merror:0.405385\n",
      "[74]\tvalidation_0-merror:0.405385\n",
      "[75]\tvalidation_0-merror:0.405385\n",
      "[76]\tvalidation_0-merror:0.405385\n",
      "[77]\tvalidation_0-merror:0.405385\n",
      "[78]\tvalidation_0-merror:0.405385\n",
      "[79]\tvalidation_0-merror:0.405385\n",
      "[80]\tvalidation_0-merror:0.405385\n",
      "[81]\tvalidation_0-merror:0.405385\n",
      "[82]\tvalidation_0-merror:0.405385\n",
      "[83]\tvalidation_0-merror:0.405385\n",
      "[84]\tvalidation_0-merror:0.405385\n",
      "[85]\tvalidation_0-merror:0.405385\n",
      "[86]\tvalidation_0-merror:0.405385\n",
      "[87]\tvalidation_0-merror:0.405385\n",
      "[88]\tvalidation_0-merror:0.405385\n",
      "[89]\tvalidation_0-merror:0.405385\n",
      "[90]\tvalidation_0-merror:0.405385\n",
      "[91]\tvalidation_0-merror:0.405385\n",
      "[92]\tvalidation_0-merror:0.405385\n",
      "[93]\tvalidation_0-merror:0.405385\n",
      "[94]\tvalidation_0-merror:0.405385\n",
      "[95]\tvalidation_0-merror:0.405385\n",
      "[96]\tvalidation_0-merror:0.405385\n",
      "[97]\tvalidation_0-merror:0.405385\n",
      "[98]\tvalidation_0-merror:0.405385\n",
      "[99]\tvalidation_0-merror:0.405385\n"
     ]
    },
    {
     "data": {
      "text/plain": [
       "XGBClassifier(base_score=0.5, booster='gbtree', colsample_bylevel=1,\n",
       "       colsample_bytree=1, eta=0.5, gamma=5.515, learning_rate=0.1,\n",
       "       max_delta_step=0, max_depth=100, min_child_weight=1, missing=None,\n",
       "       n_estimators=100, n_jobs=1, nthread=None,\n",
       "       objective='multi:softprob', random_state=0, reg_alpha=0,\n",
       "       reg_lambda=0.48, scale_pos_weight=1, seed=None, silent=True,\n",
       "       subsample=1)"
      ]
     },
     "execution_count": 133,
     "metadata": {},
     "output_type": "execute_result"
    }
   ],
   "source": [
    "bt = xgb.XGBClassifier(max_depth=100,\n",
    "                       learning_rate=0.1,\n",
    "                       n_estimators=100,\n",
    "                       eta=0.5,\n",
    "                       gamma=5.515,\n",
    "                       reg_lambda=0.48,\n",
    "                       objective='multi:softmax')   # Setup xgboost model\n",
    "bt.fit(X_train, y_train, # Train it to our data\n",
    "       eval_set=[(X_valid, y_valid)], \n",
    "       verbose=True)\n"
   ]
  },
  {
   "cell_type": "code",
   "execution_count": 134,
   "metadata": {},
   "outputs": [
    {
     "data": {
      "text/plain": [
       "<matplotlib.axes._subplots.AxesSubplot at 0x7ff9d0a81470>"
      ]
     },
     "execution_count": 134,
     "metadata": {},
     "output_type": "execute_result"
    },
    {
     "data": {
      "image/png": "[encoded data removed]",
      "text/plain": [
       "<Figure size 432x288 with 1 Axes>"
      ]
     },
     "metadata": {
      "needs_background": "light"
     },
     "output_type": "display_data"
    }
   ],
   "source": [
    "%matplotlib inline  \n",
    "xgb.plot_importance(bt)"
   ]
  },
  {
   "cell_type": "code",
   "execution_count": 135,
   "metadata": {},
   "outputs": [
    {
     "data": {
      "text/plain": [
       "0.5946153846153847"
      ]
     },
     "execution_count": 135,
     "metadata": {},
     "output_type": "execute_result"
    }
   ],
   "source": [
    "from sklearn.metrics import accuracy_score\n",
    "\n",
    "y_predict = bt.predict(X_valid)\n",
    "\n",
    "accuracy_score(y_valid, y_predict)"
   ]
  },
  {
   "cell_type": "code",
   "execution_count": 136,
   "metadata": {},
   "outputs": [
    {
     "data": {
      "text/plain": [
       "0.5946153846153847"
      ]
     },
     "execution_count": 136,
     "metadata": {},
     "output_type": "execute_result"
    }
   ],
   "source": [
    "from sklearn.metrics import f1_score\n",
    "f1_score(y_valid, y_predict, average='micro')"
   ]
  },
  {
   "cell_type": "code",
   "execution_count": 132,
   "metadata": {},
   "outputs": [
    {
     "data": {
      "text/plain": [
       "array([[ 73, 173,  83],\n",
       "       [ 59, 474,  40],\n",
       "       [ 59, 113, 226]])"
      ]
     },
     "execution_count": 132,
     "metadata": {},
     "output_type": "execute_result"
    }
   ],
   "source": [
    "from sklearn.metrics import confusion_matrix\n",
    "confusion_matrix(y_valid, y_predict)"
   ]
  },
  {
   "cell_type": "code",
   "execution_count": null,
   "metadata": {},
   "outputs": [],
   "source": []
  }
 ],
 "metadata": {
  "kernelspec": {
   "display_name": "Python 3",
   "language": "python",
   "name": "python3"
  },
  "language_info": {
   "codemirror_mode": {
    "name": "ipython",
    "version": 3
   },
   "file_extension": ".py",
   "mimetype": "text/x-python",
   "name": "python",
   "nbconvert_exporter": "python",
   "pygments_lexer": "ipython3",
   "version": "3.6.8"
  }
 },
 "nbformat": 4,
 "nbformat_minor": 2
}
